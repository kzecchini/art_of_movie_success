{
 "cells": [
  {
   "cell_type": "markdown",
   "metadata": {},
   "source": [
    "# Scraping Cinemetrics - Barry Salt Database"
   ]
  },
  {
   "cell_type": "markdown",
   "metadata": {},
   "source": [
    "This code uses BeautifulSoup to scrape the average shot length information from Barry Salt's database."
   ]
  },
  {
   "cell_type": "code",
   "execution_count": 1,
   "metadata": {
    "collapsed": false
   },
   "outputs": [],
   "source": [
    "from bs4 import BeautifulSoup\n",
    "import requests\n",
    "import pandas as pd\n",
    "import os.path"
   ]
  },
  {
   "cell_type": "code",
   "execution_count": 2,
   "metadata": {
    "collapsed": false
   },
   "outputs": [],
   "source": [
    "asl_url = 'http://www.cinemetrics.lv/satltdb.php'\n",
    "asl_soup = BeautifulSoup(requests.get(asl_url).text, 'lxml')"
   ]
  },
  {
   "cell_type": "code",
   "execution_count": 4,
   "metadata": {
    "collapsed": false
   },
   "outputs": [
    {
     "data": {
      "text/html": [
       "<div>\n",
       "<table border=\"1\" class=\"dataframe\">\n",
       "  <thead>\n",
       "    <tr style=\"text-align: right;\">\n",
       "      <th></th>\n",
       "      <th>Title</th>\n",
       "      <th>Year</th>\n",
       "      <th>Director</th>\n",
       "      <th>ASL</th>\n",
       "    </tr>\n",
       "  </thead>\n",
       "  <tbody>\n",
       "    <tr>\n",
       "      <th>0</th>\n",
       "      <td>11:14</td>\n",
       "      <td>2003</td>\n",
       "      <td>Marcks, Greg</td>\n",
       "      <td>4.28</td>\n",
       "    </tr>\n",
       "    <tr>\n",
       "      <th>1</th>\n",
       "      <td>21</td>\n",
       "      <td>2008</td>\n",
       "      <td>Luketic, Robert</td>\n",
       "      <td>3.63</td>\n",
       "    </tr>\n",
       "    <tr>\n",
       "      <th>2</th>\n",
       "      <td>300</td>\n",
       "      <td>2007</td>\n",
       "      <td>Snyder, Zack</td>\n",
       "      <td>4.17</td>\n",
       "    </tr>\n",
       "    <tr>\n",
       "      <th>3</th>\n",
       "      <td>2012</td>\n",
       "      <td>2009</td>\n",
       "      <td>Emmerich, Roland</td>\n",
       "      <td>3.00</td>\n",
       "    </tr>\n",
       "    <tr>\n",
       "      <th>4</th>\n",
       "      <td>$</td>\n",
       "      <td>1972</td>\n",
       "      <td>Brooks, Richard</td>\n",
       "      <td>4.90</td>\n",
       "    </tr>\n",
       "  </tbody>\n",
       "</table>\n",
       "</div>"
      ],
      "text/plain": [
       "   Title  Year          Director   ASL\n",
       "0  11:14  2003      Marcks, Greg  4.28\n",
       "1     21  2008   Luketic, Robert  3.63\n",
       "2    300  2007      Snyder, Zack  4.17\n",
       "3   2012  2009  Emmerich, Roland  3.00\n",
       "4      $  1972   Brooks, Richard  4.90"
      ]
     },
     "execution_count": 4,
     "metadata": {},
     "output_type": "execute_result"
    }
   ],
   "source": [
    "# finding the right table on the page\n",
    "asl_soup_table = asl_soup.find_all('table')[2]\n",
    "asl_soup_tbody = asl_soup_table.find_all('tbody')\n",
    "asl_soup_rows = asl_soup_tbody[0].find_all('tr')\n",
    "\n",
    "# creating dataframe\n",
    "asl_df = pd.DataFrame(columns=('Title', 'Year', 'Director', 'ASL'))\n",
    "\n",
    "# populate dataframe\n",
    "i = 0\n",
    "for row in asl_soup_rows:\n",
    "    movie_asl = [row.find_all('td')[0].text, row.find_all('td')[2].text, row.find_all('td')[3].text, row.find_all('td')[4].text]\n",
    "    asl_df.loc[i] = movie_asl\n",
    "    i += 1\n",
    "\n",
    "# check the dataframe\n",
    "asl_df.head()"
   ]
  },
  {
   "cell_type": "code",
   "execution_count": 7,
   "metadata": {
    "collapsed": false
   },
   "outputs": [],
   "source": [
    "# pickle the dataframe to merge with the box office mojo dataframe\n",
    "\n",
    "import pickle\n",
    "\n",
    "with open(os.path.dirname('scrape_cinemetrics') + '../dfs/asl_df.pkl', 'w') as picklefile:\n",
    "    pickle.dump(asl_df, picklefile)"
   ]
  },
  {
   "cell_type": "code",
   "execution_count": null,
   "metadata": {
    "collapsed": true
   },
   "outputs": [],
   "source": []
  }
 ],
 "metadata": {
  "kernelspec": {
   "display_name": "Python 2",
   "language": "python",
   "name": "python2"
  },
  "language_info": {
   "codemirror_mode": {
    "name": "ipython",
    "version": 2
   },
   "file_extension": ".py",
   "mimetype": "text/x-python",
   "name": "python",
   "nbconvert_exporter": "python",
   "pygments_lexer": "ipython2",
   "version": "2.7.11"
  }
 },
 "nbformat": 4,
 "nbformat_minor": 0
}
